{
 "cells": [
  {
   "cell_type": "markdown",
   "metadata": {},
   "source": [
    "## Title\n",
    "\n",
    "Generative Adversarial Networks\n",
    "- Generate 1D Gaussian Distribution from Uniform Noise \n",
    "\n",
    "## Description\n",
    "\n",
    "In this exercise, we are going to generate 1-D Gaussian distribution from a n-D uniform distribution. This is a toy exercise in order to understand the ability of GANs (generators) to generate arbitrary distributions from random noise.\n",
    "\n",
    "\n",
    "## Hints\n",
    "\n",
    "<a href=\"https://www.tensorflow.org/api_docs/python/tf/keras/Model#train_on_batch\" target=\"_blank\">tf.keras.Model.train_on_batch()</a> tf.keras.Model.train_on_batch()\n",
    "\n",
    "Runs a single gradient update on a single batch of data.\n",
    "\n",
    "<a href=\"https://numpy.org/doc/stable/reference/generated/numpy.ones.html\" target=\"_blank\">np.ones</a> np.ones\n",
    "\n",
    "<a href=\"https://numpy.org/doc/stable/reference/generated/numpy.zeros.html\" target=\"_blank\">np.zeros</a> np.zeros"
   ]
  },
  {
   "cell_type": "markdown",
   "metadata": {},
   "source": [
    "##  🎨 Generative Models 🖼"
   ]
  },
  {
   "cell_type": "markdown",
   "metadata": {},
   "source": [
    "Generate 1-D Gaussian distribution from a n-D uniform distribution\n",
    "  \n",
    "  <hr>\n",
    "In this exercise, we are going to generate 1-D Gaussian distribution from a n-D uniform distribution.  This is a toy exercise in order to understand the ability of GANs (generators) to generate arbitrary distributions from random noise."
   ]
  },
  {
   "cell_type": "code",
   "execution_count": 4,
   "metadata": {},
   "outputs": [],
   "source": [
    "import matplotlib.pyplot as plt\n",
    "import numpy as np\n",
    "import pandas as pd\n",
    "import scipy\n",
    "from scipy.stats import norm\n",
    "\n",
    "import tensorflow as tf\n",
    "from tensorflow.keras.models import Sequential\n",
    "from tensorflow.keras.layers import Dense, Input\n",
    "from tensorflow.keras.utils import plot_model\n",
    "%matplotlib inline\n",
    "\n",
    "tf.random.set_seed(109)\n",
    "np.random.seed(109)"
   ]
  },
  {
   "cell_type": "code",
   "execution_count": 11,
   "metadata": {},
   "outputs": [],
   "source": [
    "#This is our real dataset (samples from stanard normal distribution )\n",
    "def generate_data(n_samples = 10000,n_dim=1):\n",
    "    np.random.seed(109)\n",
    "    return np.random.randn(n_samples, n_dim) \n",
    "    "
   ]
  },
  {
   "cell_type": "code",
   "execution_count": 12,
   "metadata": {},
   "outputs": [],
   "source": [
    "# A general function to define feedforward architecture.\n",
    "def make_model(input_dim, \n",
    "               output_dim, \n",
    "               hidden_dim=64,\n",
    "               n_layers = 1,\n",
    "               activation='tanh',\n",
    "               optimizer='adam',\n",
    "               loss = 'binary_crossentropy'):\n",
    "    \n",
    "    model = Sequential()\n",
    "    model.add(Dense(hidden_dim,input_dim=input_dim,activation=activation))\n",
    "    \n",
    "    for _ in range(n_layers-1):\n",
    "        model.add(Dense(hidden_dim),activation=activation)\n",
    "    model.add(Dense(output_dim))\n",
    "\n",
    "    model.compile(loss=loss, optimizer=optimizer)\n",
    "    return model\n"
   ]
  },
  {
   "cell_type": "code",
   "execution_count": 13,
   "metadata": {},
   "outputs": [],
   "source": [
    "# hyper-parameters\n",
    "NOISE_DIM = 100\n",
    "DATA_DIM = 1   #this is equivalent to image size e.g. 32*32*3\n",
    "G_LAYERS = 1\n",
    "D_LAYERS = 1\n",
    "generator = make_model(NOISE_DIM, DATA_DIM, n_layers=G_LAYERS)  \n",
    "discriminator = make_model(DATA_DIM, 1, n_layers= D_LAYERS, activation='sigmoid')  \n",
    " "
   ]
  },
  {
   "cell_type": "code",
   "execution_count": 16,
   "metadata": {},
   "outputs": [],
   "source": [
    "def get_gan_network(random_dim, optimizer = 'adam'):\n",
    "    \n",
    "    #This ensures that when we combine our networks we only train the Generator.\n",
    "    #While generator training we do not want discriminator weights to be adjusted. \n",
    "    discriminator.trainable = False\n",
    "    \n",
    "    gan_input = Input(shape=(random_dim,))\n",
    "    x = generator(gan_input)\n",
    "    gan_output = discriminator(x)\n",
    "    #this model will be used to train generator\n",
    "    gan = tf.keras.Model(inputs = gan_input,outputs=gan_output)\n",
    "    gan.compile( loss='binary_crossentropy', optimizer=optimizer)\n",
    "    return gan"
   ]
  },
  {
   "cell_type": "code",
   "execution_count": 17,
   "metadata": {},
   "outputs": [],
   "source": [
    "def train_gan(epochs=15,batch_size=128):\n",
    "    #Loads the real data \n",
    "    x_train = generate_data(n_samples=12800,n_dim=DATA_DIM)  \n",
    "    gan = get_gan_network(NOISE_DIM, 'adam') # Get GAN model \n",
    "\n",
    "    for e in range(1,epochs+1):   \n",
    "        np.random.seed(109 + e)\n",
    "        # noise from a uniform distribution \n",
    "        noise = np.random.rand(batch_size,NOISE_DIM) \n",
    "        # generate a batch of fake data/images)\n",
    "        generated_values = generator.predict(noise)\n",
    "        \n",
    "        #Gets a batch of real data (images)\n",
    "        true_batch = x_train[np.random.choice(x_train.shape[0], batch_size, replace=False), :]  \n",
    "\n",
    "        # Train discriminator on real data, use train_on_batch\n",
    "        # real data has label of all 1s\n",
    "        disc_history_true =  ___ \n",
    "        # Train discriminator on generated values, use train_on_batch\n",
    "        # fake data has label of all 0s\n",
    "        disc_history_noise = ___\n",
    "\n",
    "        # Train generator/GAN\n",
    "        noise = np.random.rand(batch_size,NOISE_DIM)\n",
    "        y_gen = np.ones(batch_size)      \n",
    "        # Train gan with noise, with label all 1s. \n",
    "        gan_loss = ___\n",
    "\n",
    "        \n",
    "    return generator, discriminator, gan_loss, disc_history_true, disc_history_noise\n",
    "generator, discriminator, gan_loss, disc_history_true, disc_history_noise = train_gan()"
   ]
  },
  {
   "cell_type": "code",
   "execution_count": 0,
   "metadata": {},
   "outputs": [],
   "source": [
    "### edTest(test_check) ###\n",
    "print( gan_loss, disc_history_true, disc_history_noise)\n"
   ]
  },
  {
   "cell_type": "code",
   "execution_count": 18,
   "metadata": {},
   "outputs": [
    {
     "name": "stdout",
     "output_type": "stream",
     "text": [
      "1st order moment -  True :  0.0 , GAN : [0.]\n",
      "2nd order moment -  True :  1.0016611800894593 , GAN : [0.11815298]\n",
      "3rd order moment -  True :  0.003238467835095741 , GAN : [-0.00209988]\n",
      "4th order moment -  True :  3.0480390897072773 , GAN : [0.04024393]\n"
     ]
    },
    {
     "data": {
      "image/png": "[encoded data removed]",
      "text/plain": [
       "<Figure size 432x288 with 1 Axes>"
      ]
     },
     "metadata": {
      "needs_background": "light"
     },
     "output_type": "display_data"
    }
   ],
   "source": [
    "noise = np.random.rand(10000,NOISE_DIM)\n",
    "generated_values = generator.predict(noise)\n",
    "plt.hist(generated_values,bins=100)\n",
    "\n",
    "true_gaussian = [np.random.randn() for x in range(10000)]\n",
    "\n",
    "print('1st order moment - ', 'True : ', scipy.stats.moment(true_gaussian, 1) , ', GAN :', scipy.stats.moment(generated_values,1))\n",
    "print('2nd order moment - ', 'True : ', scipy.stats.moment(true_gaussian, 2) , ', GAN :', scipy.stats.moment(generated_values,2))\n",
    "print('3rd order moment - ', 'True : ', scipy.stats.moment(true_gaussian, 3) , ', GAN :', scipy.stats.moment(generated_values,3))\n",
    "print('4th order moment - ', 'True : ', scipy.stats.moment(true_gaussian, 4) , ', GAN :', scipy.stats.moment(generated_values,4))\n",
    "plt.show()"
   ]
  },
  {
   "cell_type": "markdown",
   "metadata": {},
   "source": [
    "<div class=\"alert alert-block alert-info\">\n",
    "    <h3>CONCLUSIONS </h3>     <br/>\n",
    "\n",
    "1. GANs are able to learn a generative model from general noise distributions. <br/>\n",
    "\n",
    "2. Traditional GANs do not learn the higher-order moments well. Possible issues : Number of samples, approximating higher moments is hard. Usually known to under-predict higher order variances. For people interested in learning why, read more about divergence measures between distributions (particularly about Wasserstein etc.)\n",
    "    </div>\n",
    "    "
   ]
  },
  {
   "cell_type": "markdown",
   "metadata": {},
   "source": [
    "#### References\n",
    "\n",
    "- GANs in Action (Jakub Langr; Vladimir Bok) \n",
    "- https://machinelearningmastery.com/generative-adversarial-network-loss-functions/ \n",
    "- https://arxiv.org/pdf/1406.2661.pdf"
   ]
  },
  {
   "cell_type": "code",
   "execution_count": 0,
   "metadata": {},
   "outputs": [],
   "source": []
  }
 ],
 "metadata": {
  "kernelspec": {
   "display_name": "Python 3",
   "language": "python",
   "name": "python3"
  },
  "language_info": {
   "codemirror_mode": {
    "name": "ipython",
    "version": 3
   },
   "file_extension": ".py",
   "mimetype": "text/x-python",
   "name": "python",
   "nbconvert_exporter": "python",
   "pygments_lexer": "ipython3",
   "version": "3.8.5"
  }
 },
 "nbformat": 4,
 "nbformat_minor": 4
}

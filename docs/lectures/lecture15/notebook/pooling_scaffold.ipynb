{
 "cells": [
  {
   "cell_type": "markdown",
   "metadata": {},
   "source": [
    "## Title :\n",
    "Pooling Mechanics\n",
    "\n",
    "## Description :\n",
    "The aim of this exercise is to understand the difference between average and max pooling by comparing the accuracy and number of parameters for the classification of MNIST digits.\n",
    "\n",
    "<img src=\"../fig/fig2.png\" style=\"width: 500px;\">\n",
    "\n",
    "## Instructions :\n",
    "\n",
    "- Use the helper function `get_data()` to get the train and test data.\n",
    "- Define a function `cnn_model` that returns a Convolutional Neural Network whose architecture varies based on a variable pool_type:\n",
    "    - When `pool_type` is `no_pooling` the model does not have any pooling layers.\n",
    "    - When `pool_type` is `max_pooling` add a max-pooling layer to the model.\n",
    "    - When `pool_type` is `avg_pooling` add an average-pooling layer to the model.\n",
    "- Compile the model and fit it on the training data.\n",
    "- Call the function thrice:\n",
    "    - Once for a model with no pooling layer.\n",
    "    - Once for a model with average pooling.\n",
    "    - Once for a model with max pooling.\n",
    "- For each of the above mentioned calls, compute the number of parameters in the model and the accuracy of the model on the test data.\n",
    "- Use the helper code given to visualise the computed accuracy, loss and number of parameters of all 3 models.\n",
    "\n",
    "## Hints: \n",
    "\n",
    "<a href=\"https://www.tensorflow.org/api_docs/python/tf/keras/layers/MaxPool2D\" target=\"_blank\">MaxPooling2D()</a>Max pooling operation for 2D spatial data.\n",
    "\n",
    "<a href=\"https://www.tensorflow.org/api_docs/python/tf/keras/layers/AveragePooling2D\" target=\"_blank\">AveragePooling2D()</a>Average pooling operation for spatial data.\n",
    "\n",
    "NOTE - In the case of pooling layers, if no stride size is mentioned the default size is the size of the pooling.\n",
    "\n",
    "<a href=\"https://www.tensorflow.org/api_docs/python/tf/keras/Model#compile\" target=\"_blank\">compile()</a>Configures the model for training.\n",
    "\n",
    "<a href=\"https://www.tensorflow.org/api_docs/python/tf/keras/layers/Conv2D\" target=\"_blank\">Conv2D()</a> 2D convolution layer (e.g. spatial convolution over images).\n",
    "\n",
    "<a href=\"https://www.tensorflow.org/api_docs/python/tf/keras/layers/Conv2D\" target=\"_blank\">flatten()</a>Flattens the input.\n",
    "\n",
    "<a href=\"https://www.tensorflow.org/api_docs/python/tf/keras/layers/Dense\" target=\"_blank\">Dense()</a>A regular densely-connected NN layer.\n",
    "\n",
    "<a href=\"https://www.tensorflow.org/api_docs/python/tf/keras/layers/Dropout\" target=\"_blank\">Dropout()</a> Applies Dropout to the corresponding input"
   ]
  },
  {
   "cell_type": "code",
   "execution_count": 0,
   "metadata": {},
   "outputs": [],
   "source": [
    "# Import necessary libraries\n",
    "import numpy as np\n",
    "import tensorflow as tf\n",
    "from numpy.random import seed\n",
    "import matplotlib.pyplot as plt\n",
    "from prettytable import PrettyTable\n",
    "from helper import get_data, plot_activation\n",
    "from tensorflow.keras.models import Sequential\n",
    "from sklearn.model_selection import train_test_split\n",
    "from tensorflow.keras.layers import Dense,Conv2D,Dropout,Flatten,MaxPooling2D,AveragePooling2D\n",
    "\n",
    "# Set random seed\n",
    "seed(1)\n",
    "tf.random.set_seed(1)\n",
    "\n",
    "%matplotlib inline"
   ]
  },
  {
   "cell_type": "code",
   "execution_count": 0,
   "metadata": {},
   "outputs": [],
   "source": [
    "# Use the helper function get_data to get the train and \n",
    "# test MNIST dataset\n",
    "x_train, y_train, x_test, y_test = get_data()"
   ]
  },
  {
   "cell_type": "code",
   "execution_count": 0,
   "metadata": {},
   "outputs": [],
   "source": [
    "# Setting the random seed\n",
    "seed(1)\n",
    "tf.random.set_seed(1)\n",
    "\n",
    "# Function to define the CNN model for MNIST classification\n",
    "def cnn_model(pool_type=\"no_pooling\"):\n",
    "\n",
    "  # Intialize a sequential model\n",
    "  model = Sequential(name=pool_type) \n",
    "\n",
    "  # Define the input shape \n",
    "  input_shape = (28, 28, 1)\n",
    "\n",
    "  # Add a convolutional layer with 28 filters, kernel size of 3,\n",
    "  # input_shape as input_shape defined above and tanh activation\n",
    "  model.add(___) \n",
    "\n",
    "  # Define size of the pooling operation\n",
    "  pool_size=(3,3)\n",
    "\n",
    "  # Add an average pooling layer with pool size value as defined \n",
    "  # above by pool_size\n",
    "  if pool_type==\"avg_pooling\":\n",
    "    model.add(___)\n",
    "\n",
    "  # Add a max pooling layer based with pool size value as defined \n",
    "  # above by pool_size\n",
    "  if pool_type==\"max_pooling\":\n",
    "    model.add(___)\n",
    "\n",
    "  # Add a flatten layer\n",
    "  model.add(___)\n",
    "\n",
    "  # Add a dense layer with ReLU activation with 16 nodes\n",
    "  model.add(___)\n",
    "\n",
    "  # Add a dropout layer with 0.3 as the dropout percentage\n",
    "  model.add(___)\n",
    "\n",
    "  # Add an output layer with 10 nodes and softmax activation\n",
    "  model.add(___)\n",
    "\n",
    "  # Compile the model with adam optimizer, \n",
    "  # sparse_categorical_crossentropy as the loss \n",
    "  # and accuracy as the metric\n",
    "  model.compile(___)\n",
    "  \n",
    "  # Fit the model on the train data with 8 epochs\n",
    "  model.fit(x_train , y_train , epochs= 8, verbose=0, \n",
    "            shuffle=False, workers=0, use_multiprocessing=False)\n",
    "\n",
    "  return model\n",
    "\n"
   ]
  },
  {
   "cell_type": "code",
   "execution_count": 0,
   "metadata": {},
   "outputs": [],
   "source": [
    "### edTest(test_no_pool) ###\n",
    "# Call the cnn_model function with pool_type as no_pooling \n",
    "# to get the trained model without pooling\n",
    "model = cnn_model(pool_type=\"no_pooling\")\n",
    "\n",
    "# Evaluate on the test data\n",
    "no_pool_acc = model.evaluate(x_test, y_test)\n",
    "print(\"The accuracy of the model with no pooling is\", no_pool_acc[1])\n",
    "\n",
    "# Get the number of parameters of the network\n",
    "no_pool_params = model.count_params()\n"
   ]
  },
  {
   "cell_type": "code",
   "execution_count": 0,
   "metadata": {},
   "outputs": [],
   "source": [
    "### edTest(test_avg_pool) ###\n",
    "# Call the cnn_model function with pool_type as avg_pooling \n",
    "# to get the trained model with avg pooling\n",
    "model = cnn_model(pool_type=\"avg_pooling\")\n",
    "\n",
    "# Evaluate on the test data\n",
    "avg_pool_acc = model.evaluate(x_test, y_test)\n",
    "print(\"The accuracy of the model with average pooling is\", avg_pool_acc[1])\n",
    "\n",
    "# Get the number of parameters of the network\n",
    "avg_pool_params = model.count_params()\n"
   ]
  },
  {
   "cell_type": "code",
   "execution_count": 0,
   "metadata": {},
   "outputs": [],
   "source": [
    "### edTest(test_max_pool) ###\n",
    "# Call the cnn_model function with pool_type as max_pooling \n",
    "# to get the trained model with max pooling\n",
    "model = cnn_model(pool_type=\"max_pooling\")\n",
    "\n",
    "# Evaluate on the test data\n",
    "max_pool_acc = model.evaluate(x_test, y_test)\n",
    "print(\"The accuracy of the model with max pooling is\", max_pool_acc[1])\n",
    "\n",
    "# Get the number of parameters of the network\n",
    "max_pool_params = model.count_params()\n"
   ]
  },
  {
   "cell_type": "markdown",
   "metadata": {},
   "source": [
    "### ⏸ Based on the results seen here, which of the following is the most true?\n",
    "\n",
    "#### A. The average pooling provides no advantage over no pooling models.\n",
    "#### B. The no pooling model is more robust and reliable for all datasets.\n",
    "#### C. The max pooling and average pooling though have lower number of parameters takes longer time to train than the no pooling model.\n",
    "#### D. The max pooling model performs better as MNIST is made up of mostly edges and high contrasts which provide for max pooling to easily identify the sharp edges."
   ]
  },
  {
   "cell_type": "code",
   "execution_count": 0,
   "metadata": {},
   "outputs": [],
   "source": [
    "### edTest(test_chow1) ###\n",
    "# Submit an answer choice as a string below (eg. if you choose option C, put 'C')\n",
    "answer1 = '___'"
   ]
  },
  {
   "cell_type": "code",
   "execution_count": 0,
   "metadata": {},
   "outputs": [],
   "source": [
    "### edTest(test_accuracy) ###\n",
    "# Display the models with their accuracy score and parameters \n",
    "table = PrettyTable()\n",
    "\n",
    "table.field_names = [\"Model Type\", \"Test Accuracy\", \"Test Loss\", \"Number of Parameters\"]\n",
    "table.add_row([\"Without pooling\", round(no_pool_acc[1],4), round(no_pool_acc[0],4), no_pool_params])\n",
    "table.add_row([\"With avg pooling\", round(avg_pool_acc[1],4), round(avg_pool_acc[0],4), avg_pool_params])\n",
    "table.add_row([\"With max pooling\", round(max_pool_acc[1],4), round(max_pool_acc[0],4), max_pool_params])\n",
    "print(table)"
   ]
  },
  {
   "cell_type": "markdown",
   "metadata": {},
   "source": [
    "### ⏸ How does the accuracy and loss of the model vary by increasing the pool_size to (5x5)? Why does this happen?"
   ]
  },
  {
   "cell_type": "code",
   "execution_count": 0,
   "metadata": {},
   "outputs": [],
   "source": [
    "### edTest(test_chow2) ###\n",
    "\n",
    "# Type your answer within in the quotes given\n",
    "answer2 = '___'"
   ]
  }
 ],
 "metadata": {
  "kernelspec": {
   "display_name": "Python 3",
   "language": "python",
   "name": "python3"
  },
  "language_info": {
   "codemirror_mode": {
    "name": "ipython",
    "version": 3
   },
   "file_extension": ".py",
   "mimetype": "text/x-python",
   "name": "python",
   "nbconvert_exporter": "python",
   "pygments_lexer": "ipython3",
   "version": "3.8.5"
  }
 },
 "nbformat": 4,
 "nbformat_minor": 1
}
